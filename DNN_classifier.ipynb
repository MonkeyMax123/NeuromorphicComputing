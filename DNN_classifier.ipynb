{
 "cells": [
  {
   "cell_type": "code",
   "execution_count": 5,
   "metadata": {},
   "outputs": [],
   "source": [
    "import os\n",
    "from PIL import Image\n",
    "import numpy as np\n",
    "from sklearn.model_selection import train_test_split\n",
    "from sklearn.neighbors import KNeighborsClassifier\n",
    "from sklearn.metrics import accuracy_score\n",
    "import xml.etree.ElementTree as ET\n",
    "import keras\n",
    "from keras.applications.vgg16 import VGG16, preprocess_input\n",
    "from keras.models import Model\n",
    "from keras.layers import Dense, GlobalAveragePooling2D, Flatten\n",
    "from tensorflow.keras.utils import img_to_array, load_img\n",
    "from keras.utils import to_categorical\n",
    "from timeit import default_timer as timer"
   ]
  },
  {
   "cell_type": "code",
   "execution_count": 3,
   "metadata": {},
   "outputs": [],
   "source": [
    "# Get the current working directory\n",
    "current_directory = os.getcwd()\n",
    "\n",
    "# Access the parent folder\n",
    "parent_folder = os.path.join(current_directory, 'streetsign')\n",
    "\n",
    "#Create Images and Labels folders\n",
    "image_folder = os.path.join(parent_folder, 'images')\n",
    "labels_folder = os.path.join(parent_folder, 'annotations')\n",
    "\n",
    "# Lists to store features (X) and labels (y)\n",
    "X = []\n",
    "y = []\n",
    "\n",
    "for image_file in os.listdir(image_folder):\n",
    "    # Load Image\n",
    "    image_path = os.path.join(image_folder, image_file)\n",
    "    image = load_img(image_path, target_size=(224, 224))\n",
    "    image_array = img_to_array(image)\n",
    "\n",
    "    X.append(image_array)\n",
    "\n",
    "    # Extract corresponding label from the XML annotation\n",
    "    label_file = os.path.join(labels_folder, image_file.replace('.png', '.xml'))\n",
    "    tree = ET.parse(label_file)\n",
    "    root = tree.getroot()\n",
    "    class_label = root.find('.//object/name').text\n",
    "    if class_label == 'speedlimit':\n",
    "        class_label = 0\n",
    "    elif class_label == 'stop':\n",
    "        class_label = 1\n",
    "    elif class_label == 'crosswalk':\n",
    "        class_label = 2\n",
    "    elif class_label == 'trafficlight':\n",
    "        class_label = 3\n",
    "    y.append(class_label)\n",
    "\n",
    "# Converting lists to numpy arrays\n",
    "X = np.array(X)\n",
    "y = np.array(y)\n",
    "\n",
    "pre_processed_X = []\n",
    "\n",
    "for image in X:\n",
    "  pre_processed_image = keras.applications.vgg16.preprocess_input(image)\n",
    "  pre_processed_X.append(pre_processed_image)\n",
    "\n",
    "# Spliting the data into training and testing sets\n",
    "X_train, X_test, y_train, y_test = train_test_split(X, y, test_size=0.2, random_state=42)\n",
    "\n",
    "num_classes = len(np.unique(y_train))\n",
    "y_train_encoded = to_categorical(y_train, num_classes)\n",
    "y_test_encoded = to_categorical(y_test, num_classes)"
   ]
  },
  {
   "cell_type": "code",
   "execution_count": 4,
   "metadata": {},
   "outputs": [],
   "source": [
    "#load pre-trained model\n",
    "model = VGG16(weights='imagenet', include_top=False, classes = 4, input_shape=(224, 224, 3))\n",
    "x = model.output\n",
    "x = GlobalAveragePooling2D()(x)  # Global average pooling layer\n",
    "x = Dense(1024, activation='relu')(x)  # Fully connected layer\n",
    "predictions = Dense(4, activation='softmax')(x)  # Output layer\n",
    "\n",
    "model = Model(inputs=model.input, outputs=predictions)\n",
    "\n",
    "model.compile(optimizer='adam', loss='categorical_crossentropy', metrics=['accuracy'])\n"
   ]
  },
  {
   "cell_type": "code",
   "execution_count": 6,
   "metadata": {},
   "outputs": [
    {
     "name": "stdout",
     "output_type": "stream",
     "text": [
      "Starting Timer\n",
      "6/6 [==============================] - 19s 3s/step - loss: 2.0297 - accuracy: 0.4261\n",
      "Time to Run:  19.443746000000004\n",
      "Accuracy: 0.4261363744735718\n"
     ]
    }
   ],
   "source": [
    "start = timer()\n",
    "print(\"Starting Timer\")\n",
    "accuracy = model.evaluate(X_test, y_test_encoded)[1]\n",
    "end = timer()\n",
    "print(\"Time to Run: \", (end - start))\n",
    "print(f\"Accuracy: {accuracy}\")"
   ]
  },
  {
   "cell_type": "code",
   "execution_count": 7,
   "metadata": {},
   "outputs": [
    {
     "name": "stdout",
     "output_type": "stream",
     "text": [
      "Starting Timer\n",
      "Epoch 1/10\n",
      "22/22 [==============================] - 433s 20s/step - loss: 10.6713 - accuracy: 0.6462\n",
      "Epoch 2/10\n",
      "22/22 [==============================] - 468s 21s/step - loss: 0.8846 - accuracy: 0.7589\n",
      "Epoch 3/10\n",
      "22/22 [==============================] - 444s 20s/step - loss: 0.8795 - accuracy: 0.7589\n",
      "Epoch 4/10\n",
      "22/22 [==============================] - 436s 20s/step - loss: 0.8447 - accuracy: 0.7589\n",
      "Epoch 5/10\n",
      "22/22 [==============================] - 466s 21s/step - loss: 0.8262 - accuracy: 0.7589\n",
      "Epoch 6/10\n",
      "22/22 [==============================] - 405s 18s/step - loss: 0.8190 - accuracy: 0.7589\n",
      "Epoch 7/10\n",
      "22/22 [==============================] - 405s 19s/step - loss: 0.8135 - accuracy: 0.7589\n",
      "Epoch 8/10\n",
      "22/22 [==============================] - 421s 19s/step - loss: 0.8139 - accuracy: 0.7589\n",
      "Epoch 9/10\n",
      "22/22 [==============================] - 324s 15s/step - loss: 0.7807 - accuracy: 0.7589\n",
      "Epoch 10/10\n",
      "22/22 [==============================] - 320s 15s/step - loss: 0.7746 - accuracy: 0.7589\n",
      "Time to Run:  4122.4085359\n"
     ]
    }
   ],
   "source": [
    "start = timer()\n",
    "print(\"Starting Timer\")\n",
    "model.fit(X_train, y_train_encoded, epochs=10, batch_size=32)\n",
    "end = timer()\n",
    "print(\"Time to Run: \", (end - start))"
   ]
  },
  {
   "cell_type": "code",
   "execution_count": 8,
   "metadata": {},
   "outputs": [
    {
     "name": "stdout",
     "output_type": "stream",
     "text": [
      "Starting Timer\n",
      "6/6 [==============================] - 18s 2s/step - loss: 0.9003 - accuracy: 0.6818\n",
      "Time to Run:  23.48268829999961\n",
      "Accuracy: 0.6818181872367859\n"
     ]
    }
   ],
   "source": [
    "start = timer()\n",
    "print(\"Starting Timer\")\n",
    "accuracy = model.evaluate(X_test, y_test_encoded)[1]\n",
    "end = timer()\n",
    "print(\"Time to Run: \", (end - start))\n",
    "print(f\"Accuracy: {accuracy}\")"
   ]
  }
 ],
 "metadata": {
  "kernelspec": {
   "display_name": ".venv",
   "language": "python",
   "name": "python3"
  },
  "language_info": {
   "codemirror_mode": {
    "name": "ipython",
    "version": 3
   },
   "file_extension": ".py",
   "mimetype": "text/x-python",
   "name": "python",
   "nbconvert_exporter": "python",
   "pygments_lexer": "ipython3",
   "version": "3.9.13"
  }
 },
 "nbformat": 4,
 "nbformat_minor": 2
}
